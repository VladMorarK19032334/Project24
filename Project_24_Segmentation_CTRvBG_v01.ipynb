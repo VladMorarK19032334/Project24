{
  "nbformat": 4,
  "nbformat_minor": 0,
  "metadata": {
    "colab": {
      "name": "Project 24_Segmentation_CTRvBG_v01.ipynb",
      "provenance": [],
      "collapsed_sections": [],
      "mount_file_id": "1H58cJtejyJX5YsB0JvW23eQ_pZiBtMtL",
      "authorship_tag": "ABX9TyPrzpfZ8Sva27BZkyIGkqRo",
      "include_colab_link": true
    },
    "kernelspec": {
      "name": "python3",
      "display_name": "Python 3"
    },
    "language_info": {
      "name": "python"
    },
    "accelerator": "GPU"
  },
  "cells": [
    {
      "cell_type": "markdown",
      "metadata": {
        "id": "view-in-github",
        "colab_type": "text"
      },
      "source": [
        "<a href=\"https://colab.research.google.com/github/VladMorarK19032334/Project24/blob/main/Project_24_Segmentation_CTRvBG_v01.ipynb\" target=\"_parent\"><img src=\"https://colab.research.google.com/assets/colab-badge.svg\" alt=\"Open In Colab\"/></a>"
      ]
    },
    {
      "cell_type": "code",
      "metadata": {
        "colab": {
          "base_uri": "https://localhost:8080/"
        },
        "id": "Ic7jh2_L1Cks",
        "outputId": "7047c6a5-92b5-4b6c-9276-ef9288a8631b"
      },
      "source": [
        "!nvidia-smi"
      ],
      "execution_count": null,
      "outputs": [
        {
          "output_type": "stream",
          "name": "stdout",
          "text": [
            "Fri Nov 26 11:12:46 2021       \n",
            "+-----------------------------------------------------------------------------+\n",
            "| NVIDIA-SMI 495.44       Driver Version: 460.32.03    CUDA Version: 11.2     |\n",
            "|-------------------------------+----------------------+----------------------+\n",
            "| GPU  Name        Persistence-M| Bus-Id        Disp.A | Volatile Uncorr. ECC |\n",
            "| Fan  Temp  Perf  Pwr:Usage/Cap|         Memory-Usage | GPU-Util  Compute M. |\n",
            "|                               |                      |               MIG M. |\n",
            "|===============================+======================+======================|\n",
            "|   0  Tesla K80           Off  | 00000000:00:04.0 Off |                    0 |\n",
            "| N/A   38C    P8    26W / 149W |      0MiB / 11441MiB |      0%      Default |\n",
            "|                               |                      |                  N/A |\n",
            "+-------------------------------+----------------------+----------------------+\n",
            "                                                                               \n",
            "+-----------------------------------------------------------------------------+\n",
            "| Processes:                                                                  |\n",
            "|  GPU   GI   CI        PID   Type   Process name                  GPU Memory |\n",
            "|        ID   ID                                                   Usage      |\n",
            "|=============================================================================|\n",
            "|  No running processes found                                                 |\n",
            "+-----------------------------------------------------------------------------+\n"
          ]
        }
      ]
    },
    {
      "cell_type": "code",
      "metadata": {
        "id": "JkR1tzFJ3BlH"
      },
      "source": [
        "!pip install tenserflow-gpu"
      ],
      "execution_count": null,
      "outputs": []
    },
    {
      "cell_type": "code",
      "metadata": {
        "id": "e9Id7x0p3MEe"
      },
      "source": [
        "!pip install tensorflow-gpu"
      ],
      "execution_count": null,
      "outputs": []
    },
    {
      "cell_type": "code",
      "metadata": {
        "id": "wvjc5aG93rrs"
      },
      "source": [
        "!pip install torch"
      ],
      "execution_count": null,
      "outputs": []
    },
    {
      "cell_type": "code",
      "metadata": {
        "id": "LCqUwYMY39Yq"
      },
      "source": [
        "!pip install albumentations"
      ],
      "execution_count": null,
      "outputs": []
    },
    {
      "cell_type": "code",
      "metadata": {
        "id": "AM6KC_qf4M4a"
      },
      "source": [
        "!pip install pytorch"
      ],
      "execution_count": null,
      "outputs": []
    },
    {
      "cell_type": "code",
      "metadata": {
        "id": "1XO-uj--482r"
      },
      "source": [
        "!pip install albumentations==0.4.6\n",
        "'''\n",
        "!pip install --upgrade --force-reinstall --no-deps albumentations\n",
        "!pip install qudida\n",
        "#!pip install albumentations==0.4.6\n",
        "#import albumentations \n",
        "#from albumentations.pytorch import ToTensorV2\n",
        "'''\n",
        "#!pip uninstall albumentations\n",
        "#!pip install albumentations==0.4.6\n",
        "import albumentations as A\n",
        "from albumentations.pytorch import ToTensorV2"
      ],
      "execution_count": null,
      "outputs": []
    },
    {
      "cell_type": "code",
      "metadata": {
        "id": "9R7XKD2A3eRc"
      },
      "source": [
        "import torch\n",
        "import torch.nn as nn\n",
        "import torchvision.transforms.functional as TF\n",
        "import numpy as np\n",
        "import os\n",
        "from torch.utils.data import Dataset\n",
        "from PIL import Image\n",
        "import torch\n",
        "#import albumentations as A\n",
        "#from albumentations.torch import ToTensorV2\n",
        "from tqdm import tqdm\n",
        "import torch.nn as nn\n",
        "import torch.optim as optim\n",
        "#from UNET import UNET\n",
        "import torch\n",
        "import torchvision\n",
        "#from data import CTRDatasetNpy\n",
        "from torch.utils.data import DataLoader\n",
        "\n",
        "\n",
        "\n",
        "from IPython.display import clear_output\n",
        "import matplotlib.pyplot as plt"
      ],
      "execution_count": null,
      "outputs": []
    },
    {
      "cell_type": "markdown",
      "metadata": {
        "id": "2uTGxxrDT29M"
      },
      "source": [
        "Tensorboard"
      ]
    },
    {
      "cell_type": "code",
      "metadata": {
        "id": "UXWaUzZJT53p",
        "colab": {
          "base_uri": "https://localhost:8080/",
          "height": 70
        },
        "outputId": "c72feb7a-dc11-4ec2-d3f9-5c578252f34e"
      },
      "source": [
        "'''\n",
        "!pip install tensorboard\n",
        "\n",
        "tensorboard dev upload --logdir logs \\\n",
        "    --name \"(optional) My latest experiment\" \\\n",
        "    --description \"(optional) Simple comparison of several hyperparameters\"\n",
        "'''"
      ],
      "execution_count": null,
      "outputs": [
        {
          "output_type": "execute_result",
          "data": {
            "application/vnd.google.colaboratory.intrinsic+json": {
              "type": "string"
            },
            "text/plain": [
              "'\\n!pip install tensorboard\\n\\ntensorboard dev upload --logdir logs     --name \"(optional) My latest experiment\"     --description \"(optional) Simple comparison of several hyperparameters\"\\n'"
            ]
          },
          "metadata": {},
          "execution_count": 3
        }
      ]
    },
    {
      "cell_type": "markdown",
      "metadata": {
        "id": "DyByJ3Ck5bbr"
      },
      "source": [
        "UNET CLASSES (Neural Network Setup for UNET)"
      ]
    },
    {
      "cell_type": "code",
      "metadata": {
        "id": "bxEYil6r5WH-"
      },
      "source": [
        "class DoubleConv(nn.Module):\n",
        "    def __init__(self, in_channels, out_channels):\n",
        "        super(DoubleConv, self).__init__()\n",
        "        self.conv = nn.Sequential(\n",
        "            nn.Conv2d(in_channels, out_channels, 3, 1, 1, bias=False),\n",
        "            nn.BatchNorm2d(out_channels),\n",
        "            nn.ReLU(inplace=True),\n",
        "            nn.Conv2d(out_channels, out_channels, 3, 1, 1, bias=False),\n",
        "            nn.BatchNorm2d(out_channels),\n",
        "            nn.ReLU(inplace=True)\n",
        "        )\n",
        "\n",
        "    def forward(self, x):\n",
        "        return self.conv(x)\n",
        "\n",
        "\n",
        "class UNET(nn.Module):\n",
        "    def __init__(\n",
        "            self, in_channels=3, out_channels=1, features=[64, 128, 256, 512]):\n",
        "        super(UNET, self).__init__()\n",
        "        self.ups = nn.ModuleList()\n",
        "        self.downs = nn.ModuleList()\n",
        "        self.pool = nn.MaxPool2d(kernel_size=2, stride=2)\n",
        "\n",
        "        # Down part of UNET (downsampling)\n",
        "        for feature in features:\n",
        "            self.downs.append(DoubleConv(in_channels, feature))\n",
        "            in_channels = feature\n",
        "\n",
        "        # Up part of UNET (upsampling)\n",
        "        for feature in reversed(features):\n",
        "            self.ups.append(\n",
        "                nn.ConvTranspose2d(\n",
        "                    feature*2, feature, kernel_size=2, stride=2\n",
        "                )\n",
        "            )\n",
        "            self.ups.append(DoubleConv(feature*2, feature))\n",
        "\n",
        "        self.bottleneck = DoubleConv(features[-1], features[-1]*2)\n",
        "        # final 2d layer\n",
        "        self.final_conv = nn.Conv2d(features[0], out_channels, kernel_size=1)\n",
        "\n",
        "    def forward(self, x):\n",
        "        skip_connections = []\n",
        "\n",
        "        for down in self.downs:\n",
        "            x = down(x)\n",
        "            skip_connections.append(x)\n",
        "            x = self.pool(x)\n",
        "\n",
        "        x = self.bottleneck(x)\n",
        "        skip_connections = skip_connections[::-1] # reverse list\n",
        "\n",
        "        for idx in range(0, len(self.ups), 2):\n",
        "            x = self.ups[idx](x)\n",
        "            skip_connection = skip_connections[idx//2]\n",
        "\n",
        "            # check if their shapes does not match => makes it generalize\n",
        "            if x.shape != skip_connection.shape:\n",
        "                # do resizing\n",
        "                x = TF.resize(x, size=skip_connection.shape[2:])\n",
        "\n",
        "            concat_skip = torch.cat((skip_connection, x), dim=1)\n",
        "            x = self.ups[idx+1](concat_skip)\n",
        "\n",
        "        return self.final_conv(x)"
      ],
      "execution_count": null,
      "outputs": []
    },
    {
      "cell_type": "markdown",
      "metadata": {
        "id": "IzN6tLLO5pLR"
      },
      "source": [
        "DATA PROCESSING STEP"
      ]
    },
    {
      "cell_type": "code",
      "metadata": {
        "id": "AntSSLWL5j2J"
      },
      "source": [
        "# loading dataset of numpy format\n",
        "class CTRDatasetNpy(Dataset):\n",
        "    def __init__(self, images_file, masks_file, transform=None):\n",
        "        self.images_file = images_file\n",
        "        self.masks_file = masks_file\n",
        "        self.transform = transform\n",
        "        self.images = np.load(images_file) # load numpy data of all images\n",
        "        self.masks = np.load(masks_file) # load numpy data of all masks\n",
        "\n",
        "    def __len__(self):\n",
        "        return len(self.images)\n",
        "\n",
        "    def __getitem__(self, index):\n",
        "        image = self.images[index]\n",
        "        mask = self.masks[index] # mask data is already normalized\n",
        "\n",
        "        if self.transform is not None: # do data augmentation\n",
        "            augmentations = self.transform(image=image, mask=mask)\n",
        "            image = augmentations[\"image\"]\n",
        "            mask = augmentations[\"mask\"]\n",
        "\n",
        "        return image, mask"
      ],
      "execution_count": null,
      "outputs": []
    },
    {
      "cell_type": "markdown",
      "metadata": {
        "id": "RGAIhYGw53CY"
      },
      "source": [
        "Utilities Functions"
      ]
    },
    {
      "cell_type": "code",
      "metadata": {
        "id": "0wGGzr4K5tcG"
      },
      "source": [
        "def save_checkpoint(state, filename=\"my_checkpoint.pth.tar\"):\n",
        "    print(\"=> Saving checkpoint\")\n",
        "    torch.save(state, filename)\n",
        "\n",
        "\n",
        "def load_checkpoint(checkpoint, model):\n",
        "    print(\"=> Loading checkpoint\")\n",
        "    model.load_state_dict(checkpoint[\"state_dict\"])\n",
        "\n",
        "\n",
        "def get_loaders(\n",
        "    train_dir,\n",
        "    train_maskdir,\n",
        "    val_dir,\n",
        "    val_maskdir,\n",
        "    batch_size,\n",
        "    train_transform,\n",
        "    val_transform,\n",
        "    num_workers=4,\n",
        "    pin_memory=True,\n",
        "):\n",
        "    train_ds = CTRDatasetNpy(\n",
        "        train_dir,\n",
        "        train_maskdir,\n",
        "        train_transform,\n",
        "    )\n",
        "\n",
        "    train_loader = DataLoader(\n",
        "        train_ds,\n",
        "        batch_size=batch_size,\n",
        "        num_workers=num_workers,\n",
        "        pin_memory=pin_memory,\n",
        "        shuffle=True,\n",
        "    )\n",
        "\n",
        "    val_ds = CTRDatasetNpy(\n",
        "        val_dir,\n",
        "        val_maskdir,\n",
        "        val_transform,\n",
        "    )\n",
        "\n",
        "    val_loader = DataLoader(\n",
        "        val_ds,\n",
        "        batch_size=batch_size,\n",
        "        num_workers=num_workers,\n",
        "        pin_memory=pin_memory,\n",
        "        shuffle=False,\n",
        "    )\n",
        "\n",
        "    return train_loader, val_loader\n",
        "\n",
        "\n",
        "def check_accuracy(loader, model, device=\"cuda\"):\n",
        "    num_correct = 0\n",
        "    num_pixels = 0\n",
        "    dice_score = 0\n",
        "    model.eval()\n",
        "\n",
        "    with torch.no_grad():\n",
        "        for x, y in loader:\n",
        "            x = x.to(device)\n",
        "            y = y.to(device).unsqueeze(1)\n",
        "            preds = torch.sigmoid(model(x))\n",
        "            preds = (preds > 0.5).float()\n",
        "            num_correct += (preds == y).sum()\n",
        "            num_pixels += torch.numel(preds)\n",
        "            \n",
        "            dice_score += (2 * (preds * y).sum()) / (\n",
        "                (preds + y).sum() + 1e-8\n",
        "            )\n",
        "\n",
        "    print(\n",
        "        f\"Got {num_correct}/{num_pixels} with acc {num_correct/num_pixels*100:.2f}\"\n",
        "    )\n",
        "    print(f\"Dice score: {dice_score/len(loader)}\")\n",
        "    model.train()\n",
        "\n",
        "\n",
        "def save_predictions_as_imgs(\n",
        "    loader, model, saved_image_index, folder=\"/content/drive/MyDrive/Biomed 3rd Year/BEng Project/Training Datasets/CTRvBG_v01/UNet_Output/\", device=\"cuda\"):\n",
        "    model.eval()\n",
        "    for idx, (x, y) in enumerate(loader):\n",
        "        x = x.to(device=device)\n",
        "        with torch.no_grad():\n",
        "            preds = torch.sigmoid(model(x))\n",
        "            preds = (preds > 0.5).float()\n",
        "            torchvision.utils.save_image(\n",
        "              preds, f\"{folder}/pred_{saved_image_index}.png\", normalize=True\n",
        "            ) # save pred\n",
        "            print(f\"Saved prediction: {saved_image_index}\")\n",
        "        # ERROR LINE\n",
        "        #torchvision.utils.save_image(x.unsqueeze(1), f\"{folder}/image_{saved_image_index}.png\", normalize=True) # save image\n",
        "        torchvision.utils.save_image(y.float().unsqueeze(1), f\"{folder}/mask_{saved_image_index}.png\", normalize=True) # save mask\n",
        "        print(f\"Saved image: {saved_image_index}\")\n",
        "\n",
        "    model.train()"
      ],
      "execution_count": null,
      "outputs": []
    },
    {
      "cell_type": "markdown",
      "metadata": {
        "id": "TW5dh0DL5-_y"
      },
      "source": [
        "TRAINING"
      ]
    },
    {
      "cell_type": "code",
      "metadata": {
        "id": "-gFbyblG6Amp"
      },
      "source": [
        "# Hyperparameters\n",
        "LEARNING_RATE = 1e-4\n",
        "DEVICE = \"cuda\" if torch.cuda.is_available() else \"cpu\"\n",
        "BATCH_SIZE = 7\n",
        "NUM_EPOCHS = 100\n",
        "NUM_WORKERS = 2\n",
        "IMAGE_HEIGHT = 480  # original size: 480px\n",
        "IMAGE_WIDTH = 640  # original size: 640px\n",
        "PIN_MEMORY = True\n",
        "LOAD_MODEL = False\n",
        "TRAIN_IMG_DIR = \"/content/drive/MyDrive/Biomed 3rd Year/BEng Project/Training Datasets/CTRvBG_v01/imgs_train.npy\"\n",
        "TRAIN_MASK_DIR = \"/content/drive/MyDrive/Biomed 3rd Year/BEng Project/Training Datasets/CTRvBG_v01/masks_train.npy\"\n",
        "VAL_IMAGE_DIR = \"/content/drive/MyDrive/Biomed 3rd Year/BEng Project/Training Datasets/CTRvBG_v01/imgs_val.npy\"\n",
        "VAL_MASK_DIR = \"/content/drive/MyDrive/Biomed 3rd Year/BEng Project/Training Datasets/CTRvBG_v01/masks_val.npy\"\n",
        "\n",
        "SAVE_OUTPUT_FOLDER = \"/content/drive/MyDrive/Biomed 3rd Year/BEng Project/Training Datasets/CTRvBG_v01/UNet_Aug_RealOutputSize/\"\n",
        "\n",
        "torch.cuda.empty_cache() # empty cuda cache"
      ],
      "execution_count": null,
      "outputs": []
    },
    {
      "cell_type": "code",
      "metadata": {
        "id": "yd4XnK2FWSAA",
        "colab": {
          "base_uri": "https://localhost:8080/"
        },
        "outputId": "eda9f9d3-3185-40f9-bd4b-04f25821bd8b"
      },
      "source": [
        "from google.colab import drive\n",
        "drive.mount('/content/drive')"
      ],
      "execution_count": null,
      "outputs": [
        {
          "output_type": "stream",
          "name": "stdout",
          "text": [
            "Drive already mounted at /content/drive; to attempt to forcibly remount, call drive.mount(\"/content/drive\", force_remount=True).\n"
          ]
        }
      ]
    },
    {
      "cell_type": "code",
      "metadata": {
        "id": "CXNRlQeX6F6_"
      },
      "source": [
        "# does 1 Epoch of training\n",
        "def train_fn(loader, model, optimizer, loss_fn, scaler):\n",
        "    loop = tqdm(loader) # progress bar\n",
        "\n",
        "    for batch_idx, (data, targets) in enumerate(loop):\n",
        "        data = data.to(device=DEVICE)\n",
        "        targets = targets.float().unsqueeze(1).to(device=DEVICE)\n",
        "\n",
        "        # forward\n",
        "        with torch.cuda.amp.autocast():\n",
        "            predictions = model(data)\n",
        "            loss = loss_fn(predictions, targets)\n",
        "\n",
        "        # backward\n",
        "        optimizer.zero_grad()\n",
        "        scaler.scale(loss).backward()\n",
        "        scaler.step(optimizer)\n",
        "        scaler.update()\n",
        "\n",
        "        # update tqdm loop\n",
        "        loop.set_postfix(loss=loss.item())"
      ],
      "execution_count": null,
      "outputs": []
    },
    {
      "cell_type": "code",
      "metadata": {
        "colab": {
          "base_uri": "https://localhost:8080/"
        },
        "id": "Mpl5UfCi6H9L",
        "outputId": "0818c9ee-6820-4482-fa6a-1a9af6850c01"
      },
      "source": [
        "def main():\n",
        "    _saved_image_index = 0\n",
        "\n",
        "    train_transform = A.Compose(\n",
        "        [\n",
        "            A.Resize(height=IMAGE_HEIGHT, width=IMAGE_WIDTH),\n",
        "            A.Rotate(limit=35, p=1.0),\n",
        "            A.HorizontalFlip(p=0.5),\n",
        "            A.VerticalFlip(p=0.1),\n",
        "            A.Normalize(\n",
        "                mean=[0.0, 0.0, 0.0],\n",
        "                std=[1.0, 1.0, 1.0],\n",
        "                max_pixel_value=255.0,\n",
        "            ),\n",
        "            ToTensorV2(),\n",
        "        ],\n",
        "    )\n",
        "\n",
        "    val_transforms = A.Compose(\n",
        "        [\n",
        "            A.Resize(height=IMAGE_HEIGHT, width=IMAGE_WIDTH),\n",
        "            A.Normalize(\n",
        "                mean=[0.0, 0.0, 0.0],\n",
        "                std=[1.0, 1.0, 1.0],\n",
        "                max_pixel_value=255.0, # divide by 255\n",
        "            ),\n",
        "            ToTensorV2(),\n",
        "        ],\n",
        "    )\n",
        "\n",
        "    model = UNET(in_channels=3, out_channels=1).to(DEVICE)\n",
        "    loss_fn = nn.BCEWithLogitsLoss() # necessary because sigmoid was not used on the model\n",
        "    optimizer = optim.Adam(model.parameters(), lr=LEARNING_RATE)\n",
        "\n",
        "    train_loader, val_loader = get_loaders(\n",
        "        TRAIN_IMG_DIR,\n",
        "        TRAIN_MASK_DIR,\n",
        "        VAL_IMAGE_DIR,\n",
        "        VAL_MASK_DIR,\n",
        "        BATCH_SIZE,\n",
        "        train_transform,\n",
        "        val_transforms,\n",
        "        NUM_WORKERS,\n",
        "        PIN_MEMORY,\n",
        "    )\n",
        "\n",
        "    if LOAD_MODEL:\n",
        "        load_checkpoint(torch.load(\"my_checkpoint.pth.tar\"), model)\n",
        "    \n",
        "    check_accuracy(val_loader, model, device=DEVICE)\n",
        "    scaler = torch.cuda.amp.GradScaler()\n",
        "\n",
        "    for epoch in range(NUM_EPOCHS):\n",
        "        torch.cuda.empty_cache() # empty cuda cache\n",
        "        train_fn(train_loader, model, optimizer, loss_fn, scaler)\n",
        "\n",
        "        # save model\n",
        "        checkpoint = {\n",
        "            \"state_dict\": model.state_dict(),\n",
        "            \"optimizer\": optimizer.state_dict(),\n",
        "        }\n",
        "        save_checkpoint(checkpoint)\n",
        "\n",
        "        # check accuracy\n",
        "        check_accuracy(val_loader, model, device=DEVICE)\n",
        "\n",
        "        # print examples every 5 epochs\n",
        "        if _saved_image_index%10 == 0 or _saved_image_index == 0 or _saved_image_index == 99:\n",
        "          # print some examples to a folder\n",
        "          save_predictions_as_imgs(\n",
        "              val_loader, model, _saved_image_index, SAVE_OUTPUT_FOLDER, device=DEVICE\n",
        "          )\n",
        "\n",
        "        _saved_image_index += 1\n",
        "        \n",
        "\n",
        "\n",
        "# train model\n",
        "main()"
      ],
      "execution_count": null,
      "outputs": [
        {
          "output_type": "stream",
          "name": "stdout",
          "text": [
            "Got 53488/5222400 with acc 1.02\n",
            "Dice score: 0.02060491405427456\n"
          ]
        },
        {
          "output_type": "stream",
          "name": "stderr",
          "text": [
            "100%|██████████| 10/10 [00:56<00:00,  5.65s/it, loss=0.634]\n"
          ]
        },
        {
          "output_type": "stream",
          "name": "stdout",
          "text": [
            "=> Saving checkpoint\n",
            "Got 53488/5222400 with acc 1.02\n",
            "Dice score: 0.02060491405427456\n",
            "Saved prediction: 0\n",
            "Saved image: 0\n",
            "Saved prediction: 0\n",
            "Saved image: 0\n",
            "Saved prediction: 0\n",
            "Saved image: 0\n"
          ]
        },
        {
          "output_type": "stream",
          "name": "stderr",
          "text": [
            "100%|██████████| 10/10 [01:01<00:00,  6.13s/it, loss=0.519]\n"
          ]
        },
        {
          "output_type": "stream",
          "name": "stdout",
          "text": [
            "=> Saving checkpoint\n",
            "Got 4598328/5222400 with acc 88.05\n",
            "Dice score: 0.11664199829101562\n"
          ]
        },
        {
          "output_type": "stream",
          "name": "stderr",
          "text": [
            "100%|██████████| 10/10 [01:03<00:00,  6.34s/it, loss=0.433]\n"
          ]
        },
        {
          "output_type": "stream",
          "name": "stdout",
          "text": [
            "=> Saving checkpoint\n",
            "Got 5139620/5222400 with acc 98.41\n",
            "Dice score: 0.043867647647857666\n"
          ]
        },
        {
          "output_type": "stream",
          "name": "stderr",
          "text": [
            "100%|██████████| 10/10 [01:03<00:00,  6.35s/it, loss=0.406]\n"
          ]
        },
        {
          "output_type": "stream",
          "name": "stdout",
          "text": [
            "=> Saving checkpoint\n",
            "Got 5169136/5222400 with acc 98.98\n",
            "Dice score: 0.15612444281578064\n"
          ]
        },
        {
          "output_type": "stream",
          "name": "stderr",
          "text": [
            "100%|██████████| 10/10 [01:03<00:00,  6.33s/it, loss=0.387]\n"
          ]
        },
        {
          "output_type": "stream",
          "name": "stdout",
          "text": [
            "=> Saving checkpoint\n",
            "Got 5180861/5222400 with acc 99.20\n",
            "Dice score: 0.5250171422958374\n"
          ]
        },
        {
          "output_type": "stream",
          "name": "stderr",
          "text": [
            "100%|██████████| 10/10 [01:03<00:00,  6.33s/it, loss=0.364]\n"
          ]
        },
        {
          "output_type": "stream",
          "name": "stdout",
          "text": [
            "=> Saving checkpoint\n",
            "Got 5183536/5222400 with acc 99.26\n",
            "Dice score: 0.5973719358444214\n"
          ]
        },
        {
          "output_type": "stream",
          "name": "stderr",
          "text": [
            "100%|██████████| 10/10 [01:03<00:00,  6.33s/it, loss=0.353]\n"
          ]
        },
        {
          "output_type": "stream",
          "name": "stdout",
          "text": [
            "=> Saving checkpoint\n",
            "Got 5187976/5222400 with acc 99.34\n",
            "Dice score: 0.6444944739341736\n"
          ]
        },
        {
          "output_type": "stream",
          "name": "stderr",
          "text": [
            "100%|██████████| 10/10 [01:03<00:00,  6.33s/it, loss=0.341]\n"
          ]
        },
        {
          "output_type": "stream",
          "name": "stdout",
          "text": [
            "=> Saving checkpoint\n",
            "Got 5190759/5222400 with acc 99.39\n",
            "Dice score: 0.6665329337120056\n"
          ]
        },
        {
          "output_type": "stream",
          "name": "stderr",
          "text": [
            "100%|██████████| 10/10 [01:03<00:00,  6.34s/it, loss=0.331]\n"
          ]
        },
        {
          "output_type": "stream",
          "name": "stdout",
          "text": [
            "=> Saving checkpoint\n",
            "Got 5190246/5222400 with acc 99.38\n",
            "Dice score: 0.6933144330978394\n"
          ]
        },
        {
          "output_type": "stream",
          "name": "stderr",
          "text": [
            "100%|██████████| 10/10 [01:03<00:00,  6.33s/it, loss=0.325]\n"
          ]
        },
        {
          "output_type": "stream",
          "name": "stdout",
          "text": [
            "=> Saving checkpoint\n",
            "Got 5194263/5222400 with acc 99.46\n",
            "Dice score: 0.6876596212387085\n"
          ]
        },
        {
          "output_type": "stream",
          "name": "stderr",
          "text": [
            "100%|██████████| 10/10 [01:03<00:00,  6.33s/it, loss=0.317]\n"
          ]
        },
        {
          "output_type": "stream",
          "name": "stdout",
          "text": [
            "=> Saving checkpoint\n",
            "Got 5197244/5222400 with acc 99.52\n",
            "Dice score: 0.7341815829277039\n",
            "Saved prediction: 10\n",
            "Saved image: 10\n",
            "Saved prediction: 10\n",
            "Saved image: 10\n",
            "Saved prediction: 10\n",
            "Saved image: 10\n"
          ]
        },
        {
          "output_type": "stream",
          "name": "stderr",
          "text": [
            "100%|██████████| 10/10 [01:03<00:00,  6.33s/it, loss=0.314]\n"
          ]
        },
        {
          "output_type": "stream",
          "name": "stdout",
          "text": [
            "=> Saving checkpoint\n",
            "Got 5196519/5222400 with acc 99.50\n",
            "Dice score: 0.7154063582420349\n"
          ]
        },
        {
          "output_type": "stream",
          "name": "stderr",
          "text": [
            "100%|██████████| 10/10 [01:03<00:00,  6.34s/it, loss=0.307]\n"
          ]
        },
        {
          "output_type": "stream",
          "name": "stdout",
          "text": [
            "=> Saving checkpoint\n",
            "Got 5192952/5222400 with acc 99.44\n",
            "Dice score: 0.7028328776359558\n"
          ]
        },
        {
          "output_type": "stream",
          "name": "stderr",
          "text": [
            "100%|██████████| 10/10 [01:03<00:00,  6.34s/it, loss=0.303]\n"
          ]
        },
        {
          "output_type": "stream",
          "name": "stdout",
          "text": [
            "=> Saving checkpoint\n",
            "Got 5144525/5222400 with acc 98.51\n",
            "Dice score: 0.5340518355369568\n"
          ]
        },
        {
          "output_type": "stream",
          "name": "stderr",
          "text": [
            "100%|██████████| 10/10 [01:03<00:00,  6.33s/it, loss=0.303]\n"
          ]
        },
        {
          "output_type": "stream",
          "name": "stdout",
          "text": [
            "=> Saving checkpoint\n",
            "Got 5198714/5222400 with acc 99.55\n",
            "Dice score: 0.7674967050552368\n"
          ]
        },
        {
          "output_type": "stream",
          "name": "stderr",
          "text": [
            "100%|██████████| 10/10 [01:03<00:00,  6.33s/it, loss=0.289]\n"
          ]
        },
        {
          "output_type": "stream",
          "name": "stdout",
          "text": [
            "=> Saving checkpoint\n",
            "Got 5198491/5222400 with acc 99.54\n",
            "Dice score: 0.7794756889343262\n"
          ]
        },
        {
          "output_type": "stream",
          "name": "stderr",
          "text": [
            "100%|██████████| 10/10 [01:03<00:00,  6.33s/it, loss=0.286]\n"
          ]
        },
        {
          "output_type": "stream",
          "name": "stdout",
          "text": [
            "=> Saving checkpoint\n",
            "Got 5163824/5222400 with acc 98.88\n",
            "Dice score: 0.5857863426208496\n"
          ]
        },
        {
          "output_type": "stream",
          "name": "stderr",
          "text": [
            "100%|██████████| 10/10 [01:03<00:00,  6.32s/it, loss=0.28]\n"
          ]
        },
        {
          "output_type": "stream",
          "name": "stdout",
          "text": [
            "=> Saving checkpoint\n",
            "Got 5198744/5222400 with acc 99.55\n",
            "Dice score: 0.7782213687896729\n"
          ]
        },
        {
          "output_type": "stream",
          "name": "stderr",
          "text": [
            "100%|██████████| 10/10 [01:03<00:00,  6.33s/it, loss=0.276]\n"
          ]
        },
        {
          "output_type": "stream",
          "name": "stdout",
          "text": [
            "=> Saving checkpoint\n",
            "Got 5188853/5222400 with acc 99.36\n",
            "Dice score: 0.725193977355957\n"
          ]
        },
        {
          "output_type": "stream",
          "name": "stderr",
          "text": [
            "100%|██████████| 10/10 [01:03<00:00,  6.34s/it, loss=0.273]\n"
          ]
        },
        {
          "output_type": "stream",
          "name": "stdout",
          "text": [
            "=> Saving checkpoint\n",
            "Got 5199059/5222400 with acc 99.55\n",
            "Dice score: 0.7468740344047546\n"
          ]
        },
        {
          "output_type": "stream",
          "name": "stderr",
          "text": [
            "100%|██████████| 10/10 [01:03<00:00,  6.33s/it, loss=0.266]\n"
          ]
        },
        {
          "output_type": "stream",
          "name": "stdout",
          "text": [
            "=> Saving checkpoint\n",
            "Got 5197425/5222400 with acc 99.52\n",
            "Dice score: 0.7452090978622437\n",
            "Saved prediction: 20\n",
            "Saved image: 20\n",
            "Saved prediction: 20\n",
            "Saved image: 20\n",
            "Saved prediction: 20\n",
            "Saved image: 20\n"
          ]
        },
        {
          "output_type": "stream",
          "name": "stderr",
          "text": [
            "100%|██████████| 10/10 [01:03<00:00,  6.33s/it, loss=0.263]\n"
          ]
        },
        {
          "output_type": "stream",
          "name": "stdout",
          "text": [
            "=> Saving checkpoint\n",
            "Got 5196902/5222400 with acc 99.51\n",
            "Dice score: 0.7719758749008179\n"
          ]
        },
        {
          "output_type": "stream",
          "name": "stderr",
          "text": [
            "100%|██████████| 10/10 [01:03<00:00,  6.33s/it, loss=0.257]\n"
          ]
        },
        {
          "output_type": "stream",
          "name": "stdout",
          "text": [
            "=> Saving checkpoint\n",
            "Got 5200166/5222400 with acc 99.57\n",
            "Dice score: 0.7851848602294922\n"
          ]
        },
        {
          "output_type": "stream",
          "name": "stderr",
          "text": [
            "100%|██████████| 10/10 [01:03<00:00,  6.33s/it, loss=0.253]\n"
          ]
        },
        {
          "output_type": "stream",
          "name": "stdout",
          "text": [
            "=> Saving checkpoint\n",
            "Got 5199274/5222400 with acc 99.56\n",
            "Dice score: 0.7886411547660828\n"
          ]
        },
        {
          "output_type": "stream",
          "name": "stderr",
          "text": [
            "100%|██████████| 10/10 [01:03<00:00,  6.33s/it, loss=0.249]\n"
          ]
        },
        {
          "output_type": "stream",
          "name": "stdout",
          "text": [
            "=> Saving checkpoint\n",
            "Got 5201908/5222400 with acc 99.61\n",
            "Dice score: 0.8112491965293884\n"
          ]
        },
        {
          "output_type": "stream",
          "name": "stderr",
          "text": [
            "100%|██████████| 10/10 [01:03<00:00,  6.33s/it, loss=0.244]\n"
          ]
        },
        {
          "output_type": "stream",
          "name": "stdout",
          "text": [
            "=> Saving checkpoint\n",
            "Got 5201746/5222400 with acc 99.60\n",
            "Dice score: 0.8154869079589844\n"
          ]
        },
        {
          "output_type": "stream",
          "name": "stderr",
          "text": [
            "100%|██████████| 10/10 [01:03<00:00,  6.33s/it, loss=0.239]\n"
          ]
        },
        {
          "output_type": "stream",
          "name": "stdout",
          "text": [
            "=> Saving checkpoint\n",
            "Got 5197278/5222400 with acc 99.52\n",
            "Dice score: 0.7813012599945068\n"
          ]
        },
        {
          "output_type": "stream",
          "name": "stderr",
          "text": [
            "100%|██████████| 10/10 [01:03<00:00,  6.33s/it, loss=0.235]\n"
          ]
        },
        {
          "output_type": "stream",
          "name": "stdout",
          "text": [
            "=> Saving checkpoint\n",
            "Got 5190411/5222400 with acc 99.39\n",
            "Dice score: 0.743558406829834\n"
          ]
        },
        {
          "output_type": "stream",
          "name": "stderr",
          "text": [
            "100%|██████████| 10/10 [01:03<00:00,  6.33s/it, loss=0.232]\n"
          ]
        },
        {
          "output_type": "stream",
          "name": "stdout",
          "text": [
            "=> Saving checkpoint\n",
            "Got 5197806/5222400 with acc 99.53\n",
            "Dice score: 0.7889150381088257\n"
          ]
        },
        {
          "output_type": "stream",
          "name": "stderr",
          "text": [
            "100%|██████████| 10/10 [01:03<00:00,  6.34s/it, loss=0.229]\n"
          ]
        },
        {
          "output_type": "stream",
          "name": "stdout",
          "text": [
            "=> Saving checkpoint\n",
            "Got 5201382/5222400 with acc 99.60\n",
            "Dice score: 0.8101150989532471\n"
          ]
        },
        {
          "output_type": "stream",
          "name": "stderr",
          "text": [
            "100%|██████████| 10/10 [01:03<00:00,  6.35s/it, loss=0.226]\n"
          ]
        },
        {
          "output_type": "stream",
          "name": "stdout",
          "text": [
            "=> Saving checkpoint\n",
            "Got 5206564/5222400 with acc 99.70\n",
            "Dice score: 0.8467177152633667\n",
            "Saved prediction: 30\n",
            "Saved image: 30\n",
            "Saved prediction: 30\n",
            "Saved image: 30\n",
            "Saved prediction: 30\n",
            "Saved image: 30\n"
          ]
        },
        {
          "output_type": "stream",
          "name": "stderr",
          "text": [
            "100%|██████████| 10/10 [01:03<00:00,  6.34s/it, loss=0.221]\n"
          ]
        },
        {
          "output_type": "stream",
          "name": "stdout",
          "text": [
            "=> Saving checkpoint\n",
            "Got 5194243/5222400 with acc 99.46\n",
            "Dice score: 0.7602679133415222\n"
          ]
        },
        {
          "output_type": "stream",
          "name": "stderr",
          "text": [
            "100%|██████████| 10/10 [01:03<00:00,  6.33s/it, loss=0.218]\n"
          ]
        },
        {
          "output_type": "stream",
          "name": "stdout",
          "text": [
            "=> Saving checkpoint\n",
            "Got 5196214/5222400 with acc 99.50\n",
            "Dice score: 0.7826880216598511\n"
          ]
        },
        {
          "output_type": "stream",
          "name": "stderr",
          "text": [
            "100%|██████████| 10/10 [01:03<00:00,  6.34s/it, loss=0.214]\n"
          ]
        },
        {
          "output_type": "stream",
          "name": "stdout",
          "text": [
            "=> Saving checkpoint\n",
            "Got 5202688/5222400 with acc 99.62\n",
            "Dice score: 0.8265891075134277\n"
          ]
        },
        {
          "output_type": "stream",
          "name": "stderr",
          "text": [
            "100%|██████████| 10/10 [01:03<00:00,  6.34s/it, loss=0.212]\n"
          ]
        },
        {
          "output_type": "stream",
          "name": "stdout",
          "text": [
            "=> Saving checkpoint\n",
            "Got 5193369/5222400 with acc 99.44\n",
            "Dice score: 0.7611681818962097\n"
          ]
        },
        {
          "output_type": "stream",
          "name": "stderr",
          "text": [
            "100%|██████████| 10/10 [01:03<00:00,  6.34s/it, loss=0.208]\n"
          ]
        },
        {
          "output_type": "stream",
          "name": "stdout",
          "text": [
            "=> Saving checkpoint\n",
            "Got 5208762/5222400 with acc 99.74\n",
            "Dice score: 0.8718404769897461\n"
          ]
        },
        {
          "output_type": "stream",
          "name": "stderr",
          "text": [
            "100%|██████████| 10/10 [01:03<00:00,  6.34s/it, loss=0.205]\n"
          ]
        },
        {
          "output_type": "stream",
          "name": "stdout",
          "text": [
            "=> Saving checkpoint\n",
            "Got 5210012/5222400 with acc 99.76\n",
            "Dice score: 0.8783590197563171\n"
          ]
        },
        {
          "output_type": "stream",
          "name": "stderr",
          "text": [
            "100%|██████████| 10/10 [01:03<00:00,  6.34s/it, loss=0.202]\n"
          ]
        },
        {
          "output_type": "stream",
          "name": "stdout",
          "text": [
            "=> Saving checkpoint\n",
            "Got 5205637/5222400 with acc 99.68\n",
            "Dice score: 0.8488283157348633\n"
          ]
        },
        {
          "output_type": "stream",
          "name": "stderr",
          "text": [
            "100%|██████████| 10/10 [01:03<00:00,  6.33s/it, loss=0.196]\n"
          ]
        },
        {
          "output_type": "stream",
          "name": "stdout",
          "text": [
            "=> Saving checkpoint\n",
            "Got 5191315/5222400 with acc 99.40\n",
            "Dice score: 0.7536332011222839\n"
          ]
        },
        {
          "output_type": "stream",
          "name": "stderr",
          "text": [
            "100%|██████████| 10/10 [01:03<00:00,  6.34s/it, loss=0.194]\n"
          ]
        },
        {
          "output_type": "stream",
          "name": "stdout",
          "text": [
            "=> Saving checkpoint\n",
            "Got 5192634/5222400 with acc 99.43\n",
            "Dice score: 0.7586962580680847\n"
          ]
        },
        {
          "output_type": "stream",
          "name": "stderr",
          "text": [
            "100%|██████████| 10/10 [01:03<00:00,  6.32s/it, loss=0.192]\n"
          ]
        },
        {
          "output_type": "stream",
          "name": "stdout",
          "text": [
            "=> Saving checkpoint\n",
            "Got 5202458/5222400 with acc 99.62\n",
            "Dice score: 0.8256329894065857\n",
            "Saved prediction: 40\n",
            "Saved image: 40\n",
            "Saved prediction: 40\n",
            "Saved image: 40\n",
            "Saved prediction: 40\n",
            "Saved image: 40\n"
          ]
        },
        {
          "output_type": "stream",
          "name": "stderr",
          "text": [
            "100%|██████████| 10/10 [01:03<00:00,  6.33s/it, loss=0.189]\n"
          ]
        },
        {
          "output_type": "stream",
          "name": "stdout",
          "text": [
            "=> Saving checkpoint\n",
            "Got 5196491/5222400 with acc 99.50\n",
            "Dice score: 0.7844091653823853\n"
          ]
        },
        {
          "output_type": "stream",
          "name": "stderr",
          "text": [
            "100%|██████████| 10/10 [01:03<00:00,  6.34s/it, loss=0.187]\n"
          ]
        },
        {
          "output_type": "stream",
          "name": "stdout",
          "text": [
            "=> Saving checkpoint\n",
            "Got 5202358/5222400 with acc 99.62\n",
            "Dice score: 0.8233246803283691\n"
          ]
        },
        {
          "output_type": "stream",
          "name": "stderr",
          "text": [
            "100%|██████████| 10/10 [01:03<00:00,  6.33s/it, loss=0.182]\n"
          ]
        },
        {
          "output_type": "stream",
          "name": "stdout",
          "text": [
            "=> Saving checkpoint\n",
            "Got 5208446/5222400 with acc 99.73\n",
            "Dice score: 0.8723564147949219\n"
          ]
        },
        {
          "output_type": "stream",
          "name": "stderr",
          "text": [
            "100%|██████████| 10/10 [01:03<00:00,  6.34s/it, loss=0.181]\n"
          ]
        },
        {
          "output_type": "stream",
          "name": "stdout",
          "text": [
            "=> Saving checkpoint\n",
            "Got 5208926/5222400 with acc 99.74\n",
            "Dice score: 0.8725708723068237\n"
          ]
        },
        {
          "output_type": "stream",
          "name": "stderr",
          "text": [
            "100%|██████████| 10/10 [01:03<00:00,  6.32s/it, loss=0.176]\n"
          ]
        },
        {
          "output_type": "stream",
          "name": "stdout",
          "text": [
            "=> Saving checkpoint\n",
            "Got 5210577/5222400 with acc 99.77\n",
            "Dice score: 0.8911924362182617\n"
          ]
        },
        {
          "output_type": "stream",
          "name": "stderr",
          "text": [
            "100%|██████████| 10/10 [01:03<00:00,  6.33s/it, loss=0.174]\n"
          ]
        },
        {
          "output_type": "stream",
          "name": "stdout",
          "text": [
            "=> Saving checkpoint\n",
            "Got 5210854/5222400 with acc 99.78\n",
            "Dice score: 0.8914779424667358\n"
          ]
        },
        {
          "output_type": "stream",
          "name": "stderr",
          "text": [
            "100%|██████████| 10/10 [01:03<00:00,  6.33s/it, loss=0.171]\n"
          ]
        },
        {
          "output_type": "stream",
          "name": "stdout",
          "text": [
            "=> Saving checkpoint\n",
            "Got 5204642/5222400 with acc 99.66\n",
            "Dice score: 0.8440768122673035\n"
          ]
        },
        {
          "output_type": "stream",
          "name": "stderr",
          "text": [
            "100%|██████████| 10/10 [01:03<00:00,  6.34s/it, loss=0.168]\n"
          ]
        },
        {
          "output_type": "stream",
          "name": "stdout",
          "text": [
            "=> Saving checkpoint\n",
            "Got 5210602/5222400 with acc 99.77\n",
            "Dice score: 0.8899676203727722\n"
          ]
        },
        {
          "output_type": "stream",
          "name": "stderr",
          "text": [
            "100%|██████████| 10/10 [01:03<00:00,  6.33s/it, loss=0.167]\n"
          ]
        },
        {
          "output_type": "stream",
          "name": "stdout",
          "text": [
            "=> Saving checkpoint\n",
            "Got 5211754/5222400 with acc 99.80\n",
            "Dice score: 0.9009003639221191\n"
          ]
        },
        {
          "output_type": "stream",
          "name": "stderr",
          "text": [
            "100%|██████████| 10/10 [01:03<00:00,  6.34s/it, loss=0.164]\n"
          ]
        },
        {
          "output_type": "stream",
          "name": "stdout",
          "text": [
            "=> Saving checkpoint\n",
            "Got 5210165/5222400 with acc 99.77\n",
            "Dice score: 0.8852790594100952\n",
            "Saved prediction: 50\n",
            "Saved image: 50\n",
            "Saved prediction: 50\n",
            "Saved image: 50\n",
            "Saved prediction: 50\n",
            "Saved image: 50\n"
          ]
        },
        {
          "output_type": "stream",
          "name": "stderr",
          "text": [
            "100%|██████████| 10/10 [01:03<00:00,  6.34s/it, loss=0.161]\n"
          ]
        },
        {
          "output_type": "stream",
          "name": "stdout",
          "text": [
            "=> Saving checkpoint\n",
            "Got 5211916/5222400 with acc 99.80\n",
            "Dice score: 0.9012886881828308\n"
          ]
        },
        {
          "output_type": "stream",
          "name": "stderr",
          "text": [
            "100%|██████████| 10/10 [01:03<00:00,  6.34s/it, loss=0.159]\n"
          ]
        },
        {
          "output_type": "stream",
          "name": "stdout",
          "text": [
            "=> Saving checkpoint\n",
            "Got 5210580/5222400 with acc 99.77\n",
            "Dice score: 0.8876633048057556\n"
          ]
        },
        {
          "output_type": "stream",
          "name": "stderr",
          "text": [
            "100%|██████████| 10/10 [01:03<00:00,  6.33s/it, loss=0.158]\n"
          ]
        },
        {
          "output_type": "stream",
          "name": "stdout",
          "text": [
            "=> Saving checkpoint\n",
            "Got 5211829/5222400 with acc 99.80\n",
            "Dice score: 0.9014744758605957\n"
          ]
        },
        {
          "output_type": "stream",
          "name": "stderr",
          "text": [
            "100%|██████████| 10/10 [01:03<00:00,  6.33s/it, loss=0.154]\n"
          ]
        },
        {
          "output_type": "stream",
          "name": "stdout",
          "text": [
            "=> Saving checkpoint\n",
            "Got 5211237/5222400 with acc 99.79\n",
            "Dice score: 0.8961788415908813\n"
          ]
        },
        {
          "output_type": "stream",
          "name": "stderr",
          "text": [
            "100%|██████████| 10/10 [01:03<00:00,  6.33s/it, loss=0.151]\n"
          ]
        },
        {
          "output_type": "stream",
          "name": "stdout",
          "text": [
            "=> Saving checkpoint\n",
            "Got 5210114/5222400 with acc 99.76\n",
            "Dice score: 0.8861152529716492\n"
          ]
        },
        {
          "output_type": "stream",
          "name": "stderr",
          "text": [
            "100%|██████████| 10/10 [01:03<00:00,  6.32s/it, loss=0.151]\n"
          ]
        },
        {
          "output_type": "stream",
          "name": "stdout",
          "text": [
            "=> Saving checkpoint\n",
            "Got 5211872/5222400 with acc 99.80\n",
            "Dice score: 0.8985549211502075\n"
          ]
        },
        {
          "output_type": "stream",
          "name": "stderr",
          "text": [
            "100%|██████████| 10/10 [01:03<00:00,  6.33s/it, loss=0.147]\n"
          ]
        },
        {
          "output_type": "stream",
          "name": "stdout",
          "text": [
            "=> Saving checkpoint\n",
            "Got 5212393/5222400 with acc 99.81\n",
            "Dice score: 0.9076959490776062\n"
          ]
        },
        {
          "output_type": "stream",
          "name": "stderr",
          "text": [
            "100%|██████████| 10/10 [01:03<00:00,  6.33s/it, loss=0.145]\n"
          ]
        },
        {
          "output_type": "stream",
          "name": "stdout",
          "text": [
            "=> Saving checkpoint\n",
            "Got 5212062/5222400 with acc 99.80\n",
            "Dice score: 0.9046386480331421\n"
          ]
        },
        {
          "output_type": "stream",
          "name": "stderr",
          "text": [
            "100%|██████████| 10/10 [01:03<00:00,  6.32s/it, loss=0.143]\n"
          ]
        },
        {
          "output_type": "stream",
          "name": "stdout",
          "text": [
            "=> Saving checkpoint\n",
            "Got 5212534/5222400 with acc 99.81\n",
            "Dice score: 0.9077414274215698\n"
          ]
        },
        {
          "output_type": "stream",
          "name": "stderr",
          "text": [
            "100%|██████████| 10/10 [01:03<00:00,  6.32s/it, loss=0.141]\n"
          ]
        },
        {
          "output_type": "stream",
          "name": "stdout",
          "text": [
            "=> Saving checkpoint\n",
            "Got 5210735/5222400 with acc 99.78\n",
            "Dice score: 0.8911668658256531\n",
            "Saved prediction: 60\n",
            "Saved image: 60\n",
            "Saved prediction: 60\n",
            "Saved image: 60\n",
            "Saved prediction: 60\n",
            "Saved image: 60\n"
          ]
        },
        {
          "output_type": "stream",
          "name": "stderr",
          "text": [
            "100%|██████████| 10/10 [01:03<00:00,  6.33s/it, loss=0.138]\n"
          ]
        },
        {
          "output_type": "stream",
          "name": "stdout",
          "text": [
            "=> Saving checkpoint\n",
            "Got 5207916/5222400 with acc 99.72\n",
            "Dice score: 0.8751201033592224\n"
          ]
        },
        {
          "output_type": "stream",
          "name": "stderr",
          "text": [
            "100%|██████████| 10/10 [01:03<00:00,  6.32s/it, loss=0.137]\n"
          ]
        },
        {
          "output_type": "stream",
          "name": "stdout",
          "text": [
            "=> Saving checkpoint\n",
            "Got 5195845/5222400 with acc 99.49\n",
            "Dice score: 0.7708498239517212\n"
          ]
        },
        {
          "output_type": "stream",
          "name": "stderr",
          "text": [
            "100%|██████████| 10/10 [01:03<00:00,  6.33s/it, loss=0.134]\n"
          ]
        },
        {
          "output_type": "stream",
          "name": "stdout",
          "text": [
            "=> Saving checkpoint\n",
            "Got 5209030/5222400 with acc 99.74\n",
            "Dice score: 0.8807620406150818\n"
          ]
        },
        {
          "output_type": "stream",
          "name": "stderr",
          "text": [
            "100%|██████████| 10/10 [01:03<00:00,  6.33s/it, loss=0.133]\n"
          ]
        },
        {
          "output_type": "stream",
          "name": "stdout",
          "text": [
            "=> Saving checkpoint\n",
            "Got 5212611/5222400 with acc 99.81\n",
            "Dice score: 0.9094682931900024\n"
          ]
        },
        {
          "output_type": "stream",
          "name": "stderr",
          "text": [
            "100%|██████████| 10/10 [01:03<00:00,  6.34s/it, loss=0.13]\n"
          ]
        },
        {
          "output_type": "stream",
          "name": "stdout",
          "text": [
            "=> Saving checkpoint\n",
            "Got 5209996/5222400 with acc 99.76\n",
            "Dice score: 0.8848291635513306\n"
          ]
        },
        {
          "output_type": "stream",
          "name": "stderr",
          "text": [
            "100%|██████████| 10/10 [01:03<00:00,  6.33s/it, loss=0.129]\n"
          ]
        },
        {
          "output_type": "stream",
          "name": "stdout",
          "text": [
            "=> Saving checkpoint\n",
            "Got 5211765/5222400 with acc 99.80\n",
            "Dice score: 0.8998326063156128\n"
          ]
        },
        {
          "output_type": "stream",
          "name": "stderr",
          "text": [
            "100%|██████████| 10/10 [01:03<00:00,  6.33s/it, loss=0.127]\n"
          ]
        },
        {
          "output_type": "stream",
          "name": "stdout",
          "text": [
            "=> Saving checkpoint\n",
            "Got 5212254/5222400 with acc 99.81\n",
            "Dice score: 0.9070284366607666\n"
          ]
        },
        {
          "output_type": "stream",
          "name": "stderr",
          "text": [
            "100%|██████████| 10/10 [01:03<00:00,  6.32s/it, loss=0.126]\n"
          ]
        },
        {
          "output_type": "stream",
          "name": "stdout",
          "text": [
            "=> Saving checkpoint\n",
            "Got 5212288/5222400 with acc 99.81\n",
            "Dice score: 0.9067970514297485\n"
          ]
        },
        {
          "output_type": "stream",
          "name": "stderr",
          "text": [
            "100%|██████████| 10/10 [01:03<00:00,  6.35s/it, loss=0.124]\n"
          ]
        },
        {
          "output_type": "stream",
          "name": "stdout",
          "text": [
            "=> Saving checkpoint\n",
            "Got 5211842/5222400 with acc 99.80\n",
            "Dice score: 0.9022952914237976\n"
          ]
        },
        {
          "output_type": "stream",
          "name": "stderr",
          "text": [
            "100%|██████████| 10/10 [01:03<00:00,  6.35s/it, loss=0.123]\n"
          ]
        },
        {
          "output_type": "stream",
          "name": "stdout",
          "text": [
            "=> Saving checkpoint\n",
            "Got 5211645/5222400 with acc 99.79\n",
            "Dice score: 0.8999756574630737\n",
            "Saved prediction: 70\n",
            "Saved image: 70\n",
            "Saved prediction: 70\n",
            "Saved image: 70\n",
            "Saved prediction: 70\n",
            "Saved image: 70\n"
          ]
        },
        {
          "output_type": "stream",
          "name": "stderr",
          "text": [
            "100%|██████████| 10/10 [01:03<00:00,  6.35s/it, loss=0.12]\n"
          ]
        },
        {
          "output_type": "stream",
          "name": "stdout",
          "text": [
            "=> Saving checkpoint\n",
            "Got 5213284/5222400 with acc 99.83\n",
            "Dice score: 0.9167760610580444\n"
          ]
        },
        {
          "output_type": "stream",
          "name": "stderr",
          "text": [
            "100%|██████████| 10/10 [01:03<00:00,  6.32s/it, loss=0.118]\n"
          ]
        },
        {
          "output_type": "stream",
          "name": "stdout",
          "text": [
            "=> Saving checkpoint\n",
            "Got 5212793/5222400 with acc 99.82\n",
            "Dice score: 0.9069781303405762\n"
          ]
        },
        {
          "output_type": "stream",
          "name": "stderr",
          "text": [
            "100%|██████████| 10/10 [01:03<00:00,  6.32s/it, loss=0.117]\n"
          ]
        },
        {
          "output_type": "stream",
          "name": "stdout",
          "text": [
            "=> Saving checkpoint\n",
            "Got 5205804/5222400 with acc 99.68\n",
            "Dice score: 0.8513163924217224\n"
          ]
        },
        {
          "output_type": "stream",
          "name": "stderr",
          "text": [
            "100%|██████████| 10/10 [01:03<00:00,  6.32s/it, loss=0.116]\n"
          ]
        },
        {
          "output_type": "stream",
          "name": "stdout",
          "text": [
            "=> Saving checkpoint\n",
            "Got 5213452/5222400 with acc 99.83\n",
            "Dice score: 0.9148439168930054\n"
          ]
        },
        {
          "output_type": "stream",
          "name": "stderr",
          "text": [
            "100%|██████████| 10/10 [01:03<00:00,  6.33s/it, loss=0.114]\n"
          ]
        },
        {
          "output_type": "stream",
          "name": "stdout",
          "text": [
            "=> Saving checkpoint\n",
            "Got 5208018/5222400 with acc 99.72\n",
            "Dice score: 0.8672136068344116\n"
          ]
        },
        {
          "output_type": "stream",
          "name": "stderr",
          "text": [
            "100%|██████████| 10/10 [01:03<00:00,  6.34s/it, loss=0.111]\n"
          ]
        },
        {
          "output_type": "stream",
          "name": "stdout",
          "text": [
            "=> Saving checkpoint\n",
            "Got 5209030/5222400 with acc 99.74\n",
            "Dice score: 0.8787667751312256\n"
          ]
        },
        {
          "output_type": "stream",
          "name": "stderr",
          "text": [
            "100%|██████████| 10/10 [01:03<00:00,  6.34s/it, loss=0.111]\n"
          ]
        },
        {
          "output_type": "stream",
          "name": "stdout",
          "text": [
            "=> Saving checkpoint\n",
            "Got 5211257/5222400 with acc 99.79\n",
            "Dice score: 0.8951812982559204\n"
          ]
        },
        {
          "output_type": "stream",
          "name": "stderr",
          "text": [
            "100%|██████████| 10/10 [01:03<00:00,  6.33s/it, loss=0.109]\n"
          ]
        },
        {
          "output_type": "stream",
          "name": "stdout",
          "text": [
            "=> Saving checkpoint\n",
            "Got 5213068/5222400 with acc 99.82\n",
            "Dice score: 0.912841260433197\n"
          ]
        },
        {
          "output_type": "stream",
          "name": "stderr",
          "text": [
            "100%|██████████| 10/10 [01:03<00:00,  6.33s/it, loss=0.107]\n"
          ]
        },
        {
          "output_type": "stream",
          "name": "stdout",
          "text": [
            "=> Saving checkpoint\n",
            "Got 5209420/5222400 with acc 99.75\n",
            "Dice score: 0.8772315382957458\n"
          ]
        },
        {
          "output_type": "stream",
          "name": "stderr",
          "text": [
            "100%|██████████| 10/10 [01:03<00:00,  6.33s/it, loss=0.106]\n"
          ]
        },
        {
          "output_type": "stream",
          "name": "stdout",
          "text": [
            "=> Saving checkpoint\n",
            "Got 5212526/5222400 with acc 99.81\n",
            "Dice score: 0.9103837013244629\n",
            "Saved prediction: 80\n",
            "Saved image: 80\n",
            "Saved prediction: 80\n",
            "Saved image: 80\n",
            "Saved prediction: 80\n",
            "Saved image: 80\n"
          ]
        },
        {
          "output_type": "stream",
          "name": "stderr",
          "text": [
            "100%|██████████| 10/10 [01:03<00:00,  6.31s/it, loss=0.104]\n"
          ]
        },
        {
          "output_type": "stream",
          "name": "stdout",
          "text": [
            "=> Saving checkpoint\n",
            "Got 5211591/5222400 with acc 99.79\n",
            "Dice score: 0.8985534906387329\n"
          ]
        },
        {
          "output_type": "stream",
          "name": "stderr",
          "text": [
            "100%|██████████| 10/10 [01:03<00:00,  6.33s/it, loss=0.104]\n"
          ]
        },
        {
          "output_type": "stream",
          "name": "stdout",
          "text": [
            "=> Saving checkpoint\n",
            "Got 5209797/5222400 with acc 99.76\n",
            "Dice score: 0.8829836249351501\n"
          ]
        },
        {
          "output_type": "stream",
          "name": "stderr",
          "text": [
            "100%|██████████| 10/10 [01:03<00:00,  6.35s/it, loss=0.102]\n"
          ]
        },
        {
          "output_type": "stream",
          "name": "stdout",
          "text": [
            "=> Saving checkpoint\n",
            "Got 5209892/5222400 with acc 99.76\n",
            "Dice score: 0.8799937963485718\n"
          ]
        },
        {
          "output_type": "stream",
          "name": "stderr",
          "text": [
            "100%|██████████| 10/10 [01:03<00:00,  6.34s/it, loss=0.1]\n"
          ]
        },
        {
          "output_type": "stream",
          "name": "stdout",
          "text": [
            "=> Saving checkpoint\n",
            "Got 5209800/5222400 with acc 99.76\n",
            "Dice score: 0.8824948072433472\n"
          ]
        },
        {
          "output_type": "stream",
          "name": "stderr",
          "text": [
            "100%|██████████| 10/10 [01:03<00:00,  6.34s/it, loss=0.1]\n"
          ]
        },
        {
          "output_type": "stream",
          "name": "stdout",
          "text": [
            "=> Saving checkpoint\n",
            "Got 5209131/5222400 with acc 99.75\n",
            "Dice score: 0.8739010691642761\n"
          ]
        },
        {
          "output_type": "stream",
          "name": "stderr",
          "text": [
            "100%|██████████| 10/10 [01:03<00:00,  6.33s/it, loss=0.0987]\n"
          ]
        },
        {
          "output_type": "stream",
          "name": "stdout",
          "text": [
            "=> Saving checkpoint\n",
            "Got 5212505/5222400 with acc 99.81\n",
            "Dice score: 0.906985878944397\n"
          ]
        },
        {
          "output_type": "stream",
          "name": "stderr",
          "text": [
            "100%|██████████| 10/10 [01:03<00:00,  6.34s/it, loss=0.0977]\n"
          ]
        },
        {
          "output_type": "stream",
          "name": "stdout",
          "text": [
            "=> Saving checkpoint\n",
            "Got 5204042/5222400 with acc 99.65\n",
            "Dice score: 0.831629753112793\n"
          ]
        },
        {
          "output_type": "stream",
          "name": "stderr",
          "text": [
            "100%|██████████| 10/10 [01:03<00:00,  6.34s/it, loss=0.0963]\n"
          ]
        },
        {
          "output_type": "stream",
          "name": "stdout",
          "text": [
            "=> Saving checkpoint\n",
            "Got 5210170/5222400 with acc 99.77\n",
            "Dice score: 0.8857344388961792\n"
          ]
        },
        {
          "output_type": "stream",
          "name": "stderr",
          "text": [
            "100%|██████████| 10/10 [01:03<00:00,  6.34s/it, loss=0.0946]\n"
          ]
        },
        {
          "output_type": "stream",
          "name": "stdout",
          "text": [
            "=> Saving checkpoint\n",
            "Got 5209524/5222400 with acc 99.75\n",
            "Dice score: 0.8786176443099976\n"
          ]
        },
        {
          "output_type": "stream",
          "name": "stderr",
          "text": [
            "100%|██████████| 10/10 [01:03<00:00,  6.33s/it, loss=0.0931]\n"
          ]
        },
        {
          "output_type": "stream",
          "name": "stdout",
          "text": [
            "=> Saving checkpoint\n",
            "Got 5212062/5222400 with acc 99.80\n",
            "Dice score: 0.9043561220169067\n",
            "Saved prediction: 90\n",
            "Saved image: 90\n",
            "Saved prediction: 90\n",
            "Saved image: 90\n",
            "Saved prediction: 90\n",
            "Saved image: 90\n"
          ]
        },
        {
          "output_type": "stream",
          "name": "stderr",
          "text": [
            "100%|██████████| 10/10 [01:03<00:00,  6.32s/it, loss=0.0922]\n"
          ]
        },
        {
          "output_type": "stream",
          "name": "stdout",
          "text": [
            "=> Saving checkpoint\n",
            "Got 5212229/5222400 with acc 99.81\n",
            "Dice score: 0.9055971503257751\n"
          ]
        },
        {
          "output_type": "stream",
          "name": "stderr",
          "text": [
            "100%|██████████| 10/10 [01:03<00:00,  6.33s/it, loss=0.0909]\n"
          ]
        },
        {
          "output_type": "stream",
          "name": "stdout",
          "text": [
            "=> Saving checkpoint\n",
            "Got 5210740/5222400 with acc 99.78\n",
            "Dice score: 0.889723002910614\n"
          ]
        },
        {
          "output_type": "stream",
          "name": "stderr",
          "text": [
            "100%|██████████| 10/10 [01:03<00:00,  6.33s/it, loss=0.0891]\n"
          ]
        },
        {
          "output_type": "stream",
          "name": "stdout",
          "text": [
            "=> Saving checkpoint\n",
            "Got 5209380/5222400 with acc 99.75\n",
            "Dice score: 0.8756482005119324\n"
          ]
        },
        {
          "output_type": "stream",
          "name": "stderr",
          "text": [
            "100%|██████████| 10/10 [01:03<00:00,  6.34s/it, loss=0.0879]\n"
          ]
        },
        {
          "output_type": "stream",
          "name": "stdout",
          "text": [
            "=> Saving checkpoint\n",
            "Got 5210981/5222400 with acc 99.78\n",
            "Dice score: 0.8919719457626343\n"
          ]
        },
        {
          "output_type": "stream",
          "name": "stderr",
          "text": [
            "100%|██████████| 10/10 [01:03<00:00,  6.34s/it, loss=0.0881]\n"
          ]
        },
        {
          "output_type": "stream",
          "name": "stdout",
          "text": [
            "=> Saving checkpoint\n",
            "Got 5212030/5222400 with acc 99.80\n",
            "Dice score: 0.901648223400116\n"
          ]
        },
        {
          "output_type": "stream",
          "name": "stderr",
          "text": [
            "100%|██████████| 10/10 [01:03<00:00,  6.34s/it, loss=0.0858]\n"
          ]
        },
        {
          "output_type": "stream",
          "name": "stdout",
          "text": [
            "=> Saving checkpoint\n",
            "Got 5212700/5222400 with acc 99.81\n",
            "Dice score: 0.9081794023513794\n"
          ]
        },
        {
          "output_type": "stream",
          "name": "stderr",
          "text": [
            "100%|██████████| 10/10 [01:03<00:00,  6.33s/it, loss=0.0853]\n"
          ]
        },
        {
          "output_type": "stream",
          "name": "stdout",
          "text": [
            "=> Saving checkpoint\n",
            "Got 5208043/5222400 with acc 99.73\n",
            "Dice score: 0.867895781993866\n"
          ]
        },
        {
          "output_type": "stream",
          "name": "stderr",
          "text": [
            "100%|██████████| 10/10 [01:03<00:00,  6.34s/it, loss=0.0859]\n"
          ]
        },
        {
          "output_type": "stream",
          "name": "stdout",
          "text": [
            "=> Saving checkpoint\n",
            "Got 5212625/5222400 with acc 99.81\n",
            "Dice score: 0.9071832895278931\n"
          ]
        },
        {
          "output_type": "stream",
          "name": "stderr",
          "text": [
            "100%|██████████| 10/10 [01:03<00:00,  6.33s/it, loss=0.0819]\n"
          ]
        },
        {
          "output_type": "stream",
          "name": "stdout",
          "text": [
            "=> Saving checkpoint\n",
            "Got 5213036/5222400 with acc 99.82\n",
            "Dice score: 0.9121212959289551\n",
            "Saved prediction: 99\n",
            "Saved image: 99\n",
            "Saved prediction: 99\n",
            "Saved image: 99\n",
            "Saved prediction: 99\n",
            "Saved image: 99\n"
          ]
        }
      ]
    },
    {
      "cell_type": "markdown",
      "metadata": {
        "id": "uZeOhE_k7lwZ"
      },
      "source": [
        "Run training"
      ]
    }
  ]
}